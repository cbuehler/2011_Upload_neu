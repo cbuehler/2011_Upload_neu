{
 "metadata": {
  "name": "",
  "signature": "sha256:34f2b95d539aa7cd3b57737aab7ed2882306f2fa42fe1e63e686be5eb490a9ce"
 },
 "nbformat": 3,
 "nbformat_minor": 0,
 "worksheets": [
  {
   "cells": [
    {
     "cell_type": "heading",
     "level": 1,
     "metadata": {},
     "source": [
      "Einleitung"
     ]
    },
    {
     "cell_type": "markdown",
     "metadata": {},
     "source": [
      "Diese kleine Einleitung soll dem Nutzer helfen selbst die eigene Arbeit mit LaTeX zu schreiben. Sie enth\u00e4lt Beispiele zu den wichtigsten Themen ."
     ]
    },
    {
     "cell_type": "heading",
     "level": 2,
     "metadata": {},
     "source": [
      "Struktur"
     ]
    },
    {
     "cell_type": "markdown",
     "metadata": {},
     "source": [
      "F\u00fcr diese Arbeit lassen sich als \u00dcberschriften die \u00dcberschriften in verschiedenen Stufen verwenden.\n",
      "\n",
      "    \\chapter{Einleitung}\n",
      "    \\section{Struktur}\n",
      "    \\subsection{}\n",
      "    \\subsubsection{}\n",
      "\n",
      "Allerdings sollte man sich \u00fcberlegen, ob man wirklich bis zur Stufe `subsubsection` \u00dcberschriften ben\u00f6tigt."
     ]
    },
    {
     "cell_type": "heading",
     "level": 2,
     "metadata": {},
     "source": [
      "Illustrationen"
     ]
    },
    {
     "cell_type": "heading",
     "level": 3,
     "metadata": {},
     "source": [
      "Bilder"
     ]
    },
    {
     "cell_type": "markdown",
     "metadata": {},
     "source": [
      "Bilder kann man nat\u00fcrlich auch in Arbeiten integrieren. F\u00fcr Fotos und \u00c4hnliches unterst\u00fctzt PDF-LaTeX direkt `jpg` und `png`, ansonsten empfiehlt es sich Vektorgrafiken zu verwenden und diese als `pdf` zu speichern. Sollte ein Bild einmal zu viel wei\u00dfen Raum um sich haben, so kann man mit dem Werkzeug `pdfcrop` das Bild automatisch ausschneiden[@pdfcrop].\n",
      "\n",
      "![Bechreibung des Bilds](images/Suffix_tree_ABAB_BABA.pdf) {#anker}\n",
      "\n",
      "Mit Hilfe eines Labels kann man sich dann im Text auf [diese Grafik](#anker) beziehen. "
     ]
    },
    {
     "cell_type": "heading",
     "level": 3,
     "metadata": {},
     "source": [
      "Tabellen"
     ]
    },
    {
     "cell_type": "markdown",
     "metadata": {},
     "source": [
      "Hier nur ein kurzes Beispiel, in jedem LaTeX Buch finden sich gute Anleitungen zum Erstellen von Tabellen.\n",
      "\n",
      "A | B | C\n",
      "- | - | -\n",
      "x | x | x\n",
      "x | x | x"
     ]
    },
    {
     "cell_type": "heading",
     "level": 3,
     "metadata": {},
     "source": [
      "Formeln"
     ]
    },
    {
     "cell_type": "markdown",
     "metadata": {},
     "source": [
      "Mathematische Formeln lassen sich als Umgebung mit `\\begin{math}` und `\\end{math}` erzeugen, es gibt aber auch eine abgek\u00fcrzte Schreibweise mit `\\( Formel \\)` wobei die Formel dann im laufenden Text bleibt. Die k\u00fcrzeste Form ist mit zwei `$` um die Formel, z.B. so Wasser ist H$_2$O.\n",
      "\n",
      "Mit der Schreibweise `\\[ Formel \\]` wird die Formel mittig auf einer neuen Zeile gesetzt, z.B.\n",
      "\n",
      "$$y = x^2 $$\n",
      "\n",
      "Dies ist die Kurzform der Umgebung `equation`, mit der die Gleichung auch nummeriert wird. \n",
      "\n",
      "$$\n",
      "x_{1,2} = \\frac{-b\\pm\\sqrt{b^2-4ac}}{2a}\n",
      "$$ {#mitternachtsformel}\u00e4\n",
      "Wenn wir z.B. \u00fcber die beliebte [Mitternachtsformel](#mitternachtsformel) schreiben wollen, l\u00e4sst sich diese also wie ein Bild referenzieren."
     ]
    },
    {
     "cell_type": "heading",
     "level": 3,
     "metadata": {},
     "source": [
      "Quellcode"
     ]
    },
    {
     "cell_type": "markdown",
     "metadata": {},
     "source": [
      "Quellcode und \u00e4hnlich zu formatierende Texte k\u00f6nnen mit `verbatim` in einer Umgebung gesetzt werden.\n",
      "\n",
      "    Dieser Text ist in Schreibmaschinenschrift\n",
      "\n",
      "Sch\u00f6ner geht es mit dem `listings`-Paket, das Quelltext auch entsprechend formatiert. Dazu kann man in der Pr\u00e4ambel die Sprache angeben in der Quelltexte sind.\n",
      "\n",
      "```\n",
      "public class Hello {\n",
      "    public static void main(String[] args) {\n",
      "        System.out.println(\"Hello World\");\n",
      "    }\n",
      "}\n",
      "```\n",
      "\n",
      "Im Text gibt man W\u00f6rter am Besten als `\\verb##` an, dabei erwartet LaTeX zweimal das gleiche Zeichen als Begrenzer. Im Beispiel ist dies die Raute `#`, man kann aber ein anderes Zeichen nehmen, z.B. das Plus ."
     ]
    },
    {
     "cell_type": "heading",
     "level": 2,
     "metadata": {},
     "source": [
      "Text"
     ]
    },
    {
     "cell_type": "markdown",
     "metadata": {},
     "source": [
      "Text kann mit dem Befehl `\\emph{}` *hervorgehoben* werden. Falls in einem Satz ein Punkt vorkommt, macht man vor ihm kein Leerzeichen sondern eine Tilde (`~`), denn dann f\u00fcgt LaTeX den korrekten Abstand ein, z.B. so.\n",
      "\n",
      "    z.B.~so\n",
      "\n",
      "In der Pr\u00e4ambel von `diplom.tex` gibt es den Befehl `hypenation`, der zur Silbentrennung da ist. LaTeX hat eine eingebaute Silbentrennung, die jedoch bei manchen W\u00f6rtern falsch trennt. Damit diese W\u00f6rter korrekt getrennt werden, gibt man sie dann mit dem Befehl in der Pr\u00e4ambel an^[Das Wort `Silbentrennung` ist hier das Beispiel].\n",
      "\n",
      "Fu\u00dfnoten werden mit dem Befehl `footnote` mitten in den fortlaufenden Text eingef\u00fcgt. ^[Wie man schon im vorherigen Absatz sehen konnte.].\n",
      "\n",
      "In wissenschaftlichen Arbeiten muss man des \u00f6fteren andere Arbeiten zitieren. Dazu nutzt man den Befehl `\\cite{name}`. In eckigen Klammern kann man noch die Seitenzahl angeben, falls notwendig. Der Name ist ein Schl\u00fcssel aus der Datei `bibliography.bib` [S. 10 @kopka]. Falls einmal ein Werk indirekt zu einem Teil der Arbeit beigetragen hat, kann man es auch mit `nocite` angeben, dann landet es in der Literaturliste, aber nicht direkt im Text."
     ]
    },
    {
     "cell_type": "heading",
     "level": 3,
     "metadata": {},
     "source": [
      "Weiterf\u00fchrendes"
     ]
    },
    {
     "cell_type": "markdown",
     "metadata": {},
     "source": [
      "Zum Schlu\u00df sei auf die Vielzahl an B\u00fcchern zu LaTeX verwiesen. In jeder Bibliothek wird sich eine Einf\u00fchrung finden, in der dann weitere Themen wie mathematische Formeln, Aufbau von Briefen und viele n\u00fctzliche Erweiterungen besprochen werden."
     ]
    }
   ],
   "metadata": {}
  }
 ]
}